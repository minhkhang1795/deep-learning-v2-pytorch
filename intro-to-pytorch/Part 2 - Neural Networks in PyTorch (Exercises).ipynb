{
 "cells": [
  {
   "cell_type": "markdown",
   "metadata": {},
   "source": [
    "# Neural networks with PyTorch\n",
    "\n",
    "Deep learning networks tend to be massive with dozens or hundreds of layers, that's where the term \"deep\" comes from. You can build one of these deep networks using only weight matrices as we did in the previous notebook, but in general it's very cumbersome and difficult to implement. PyTorch has a nice module `nn` that provides a nice way to efficiently build large neural networks."
   ]
  },
  {
   "cell_type": "code",
   "execution_count": 3,
   "metadata": {},
   "outputs": [],
   "source": [
    "# Import necessary packages\n",
    "\n",
    "%matplotlib inline\n",
    "%config InlineBackend.figure_format = 'retina'\n",
    "\n",
    "import numpy as np\n",
    "import torch\n",
    "\n",
    "import helper\n",
    "\n",
    "import matplotlib.pyplot as plt"
   ]
  },
  {
   "cell_type": "markdown",
   "metadata": {},
   "source": [
    "\n",
    "Now we're going to build a larger network that can solve a (formerly) difficult problem, identifying text in an image. Here we'll use the MNIST dataset which consists of greyscale handwritten digits. Each image is 28x28 pixels, you can see a sample below\n",
    "\n",
    "<img src='assets/mnist.png'>\n",
    "\n",
    "Our goal is to build a neural network that can take one of these images and predict the digit in the image.\n",
    "\n",
    "First up, we need to get our dataset. This is provided through the `torchvision` package. The code below will download the MNIST dataset, then create training and test datasets for us. Don't worry too much about the details here, you'll learn more about this later."
   ]
  },
  {
   "cell_type": "code",
   "execution_count": 4,
   "metadata": {},
   "outputs": [
    {
     "name": "stdout",
     "output_type": "stream",
     "text": [
      "Downloading http://yann.lecun.com/exdb/mnist/train-images-idx3-ubyte.gz\n",
      "Downloading http://yann.lecun.com/exdb/mnist/train-labels-idx1-ubyte.gz\n",
      "Downloading http://yann.lecun.com/exdb/mnist/t10k-images-idx3-ubyte.gz\n",
      "Downloading http://yann.lecun.com/exdb/mnist/t10k-labels-idx1-ubyte.gz\n",
      "Processing...\n",
      "Done!\n"
     ]
    }
   ],
   "source": [
    "### Run this cell\n",
    "\n",
    "from torchvision import datasets, transforms\n",
    "\n",
    "# Define a transform to normalize the data\n",
    "transform = transforms.Compose([transforms.ToTensor(),\n",
    "                              transforms.Normalize((0.5,), (0.5,)),\n",
    "                              ])\n",
    "\n",
    "# Download and load the training data\n",
    "trainset = datasets.MNIST('~/.pytorch/MNIST_data/', download=True, train=True, transform=transform)\n",
    "trainloader = torch.utils.data.DataLoader(trainset, batch_size=64, shuffle=True)"
   ]
  },
  {
   "cell_type": "markdown",
   "metadata": {},
   "source": [
    "We have the training data loaded into `trainloader` and we make that an iterator with `iter(trainloader)`. Later, we'll use this to loop through the dataset for training, like\n",
    "\n",
    "```python\n",
    "for image, label in trainloader:\n",
    "    ## do things with images and labels\n",
    "```\n",
    "\n",
    "You'll notice I created the `trainloader` with a batch size of 64, and `shuffle=True`. The batch size is the number of images we get in one iteration from the data loader and pass through our network, often called a *batch*. And `shuffle=True` tells it to shuffle the dataset every time we start going through the data loader again. But here I'm just grabbing the first batch so we can check out the data. We can see below that `images` is just a tensor with size `(64, 1, 28, 28)`. So, 64 images per batch, 1 color channel, and 28x28 images."
   ]
  },
  {
   "cell_type": "code",
   "execution_count": 5,
   "metadata": {},
   "outputs": [
    {
     "name": "stdout",
     "output_type": "stream",
     "text": [
      "<class 'torch.Tensor'>\n",
      "torch.Size([64, 1, 28, 28])\n",
      "torch.Size([64])\n"
     ]
    }
   ],
   "source": [
    "dataiter = iter(trainloader)\n",
    "images, labels = dataiter.next()\n",
    "print(type(images))\n",
    "print(images.shape)\n",
    "print(labels.shape)"
   ]
  },
  {
   "cell_type": "markdown",
   "metadata": {},
   "source": [
    "This is what one of the images looks like. "
   ]
  },
  {
   "cell_type": "code",
   "execution_count": 6,
   "metadata": {},
   "outputs": [
    {
     "data": {
      "image/png": "[encoded data removed]",
      "text/plain": [
       "<Figure size 432x288 with 1 Axes>"
      ]
     },
     "metadata": {
      "image/png": {
       "height": 250,
       "width": 253
      },
      "needs_background": "light"
     },
     "output_type": "display_data"
    }
   ],
   "source": [
    "plt.imshow(images[1].numpy().squeeze(), cmap='Greys_r');"
   ]
  },
  {
   "cell_type": "markdown",
   "metadata": {},
   "source": [
    "First, let's try to build a simple network for this dataset using weight matrices and matrix multiplications. Then, we'll see how to do it using PyTorch's `nn` module which provides a much more convenient and powerful method for defining network architectures.\n",
    "\n",
    "The networks you've seen so far are called *fully-connected* or *dense* networks. Each unit in one layer is connected to each unit in the next layer. In fully-connected networks, the input to each layer must be a one-dimensional vector (which can be stacked into a 2D tensor as a batch of multiple examples). However, our images are 28x28 2D tensors, so we need to convert them into 1D vectors. Thinking about sizes, we need to convert the batch of images with shape `(64, 1, 28, 28)` to a have a shape of `(64, 784)`, 784 is 28 times 28. This is typically called *flattening*, we flattened the 2D images into 1D vectors.\n",
    "\n",
    "Previously you built a network with one output unit. Here we need 10 output units, one for each digit. We want our network to predict the digit shown in an image, so what we'll do is calculate probabilities that the image is of any one digit or class. This ends up being a discrete probability distribution over the classes (digits) that tells us the most likely class for the image. That means we need 10 output units for the 10 classes (digits). We'll see how to convert the network output into a probability distribution next.\n",
    "\n",
    "> **Exercise:** Flatten the batch of images `images`. Then build a multi-layer network with 784 input units, 256 hidden units, and 10 output units using random tensors for the weights and biases. For now, use a sigmoid activation for the hidden layer. Leave the output layer without an activation, we'll add one that gives us a probability distribution next."
   ]
  },
  {
   "cell_type": "code",
   "execution_count": 24,
   "metadata": {},
   "outputs": [
    {
     "name": "stdout",
     "output_type": "stream",
     "text": [
      "tensor([[-3.5123e+00,  6.7569e+00,  2.4821e+00,  1.1243e+00,  1.3563e+01,\n",
      "         -1.4504e+01,  1.4148e+01,  8.6921e+00,  2.2888e+00, -1.8784e-01],\n",
      "        [-7.5142e+00,  1.1277e+01,  7.0067e+00,  6.6452e+00,  9.2825e+00,\n",
      "         -4.3290e+00,  1.6140e+00,  2.6131e+01,  4.5697e+00, -6.8972e+00],\n",
      "        [-3.8795e+00,  7.7434e+00,  3.2959e+00, -4.6660e+00,  2.4800e+00,\n",
      "         -5.7116e+00,  8.2932e+00,  2.1527e+01,  1.6257e+00, -1.7497e+01],\n",
      "        [-8.2339e+00,  1.5317e+01,  4.6141e-01,  5.5103e-01,  9.8659e+00,\n",
      "         -8.8155e+00,  9.1534e+00,  1.9949e+01,  4.7221e+00, -2.7097e+00],\n",
      "        [-5.4846e+00,  1.1752e+01, -5.5213e+00, -2.2089e+00,  2.1913e+00,\n",
      "         -2.9425e+00,  1.1588e+01,  2.6336e+01, -1.2388e+00, -7.1932e+00],\n",
      "        [ 2.4971e+00,  8.0368e+00, -1.4723e+01, -6.2365e+00,  1.0062e+00,\n",
      "         -1.0356e+00,  1.4088e+01,  2.1800e+01,  7.0188e+00, -9.0988e+00],\n",
      "        [-5.3722e+00,  1.7412e+01, -3.4914e+00, -2.7561e+00,  1.2397e+01,\n",
      "         -7.9657e+00,  1.0024e+01,  1.7741e+01,  6.7467e+00, -4.1687e+00],\n",
      "        [-1.6560e+00,  9.7359e+00,  3.9377e+00,  3.6023e+00,  9.0802e+00,\n",
      "          2.7038e+00,  3.2707e+00,  2.0764e+01,  7.2239e+00, -1.5079e+01],\n",
      "        [-6.1474e+00,  2.0646e+01, -9.5690e+00,  2.0455e-02,  7.6902e+00,\n",
      "         -1.1456e+01,  4.5383e+00,  1.2946e+01,  3.6021e+00, -6.8499e+00],\n",
      "        [-1.1810e+01,  1.9286e+01,  3.5930e+00,  5.5989e+00,  2.3748e+00,\n",
      "         -5.5268e+00,  1.5962e+00,  1.7817e+01,  3.1708e+00, -1.5992e+01],\n",
      "        [-2.6287e+00,  1.4562e+01,  3.0819e+00,  3.7230e+00,  1.0900e+00,\n",
      "         -1.8034e+01,  8.5067e+00,  2.5942e-01,  9.5228e-01, -2.3128e+00],\n",
      "        [-4.0629e+00,  8.7410e+00,  9.2979e-01,  5.4059e+00,  8.9128e+00,\n",
      "         -6.6809e+00,  1.8571e+00,  2.1909e+01,  3.5121e+00, -7.9330e+00],\n",
      "        [-5.0901e+00,  1.8358e+01,  3.9534e+00, -6.3950e+00,  6.4751e-02,\n",
      "         -8.8277e+00,  1.2775e+01,  1.8019e+01,  1.0097e+00, -1.2759e+01],\n",
      "        [-2.6439e+00,  3.6104e+00, -9.5595e+00, -7.5768e+00,  9.8048e+00,\n",
      "         -7.1067e-01,  1.2588e+01,  2.3199e+01, -6.8432e+00, -2.5335e+00],\n",
      "        [-1.0345e+01,  1.0149e+01,  1.1898e+00,  2.6136e+00,  3.1433e+00,\n",
      "         -6.0721e+00,  4.3080e+00,  1.9645e+01,  6.8406e+00, -8.7984e+00],\n",
      "        [-5.4771e+00,  1.2446e+01,  1.5396e+00, -2.3568e+00,  1.1142e+01,\n",
      "         -7.3119e+00,  7.4244e+00,  9.1750e+00,  1.1699e+01, -1.9959e+01],\n",
      "        [-5.5397e+00,  7.7406e+00,  3.4000e+00,  5.2396e-01,  1.1402e+01,\n",
      "          3.2495e-01,  1.8819e-01,  2.3799e+01,  2.9509e-01, -9.3698e+00],\n",
      "        [ 3.0890e+00,  1.3030e+01,  2.8450e+00,  4.9829e+00,  2.0182e+01,\n",
      "         -1.8132e+00,  7.2268e+00,  1.5041e+01, -1.6197e+00, -3.1789e+00],\n",
      "        [-9.7181e+00,  1.3003e+01,  4.9871e+00, -6.5663e+00,  8.7990e+00,\n",
      "          1.0666e+00,  1.0805e+01,  2.1414e+01,  1.5389e+00, -1.8941e+01],\n",
      "        [ 2.4374e+00,  2.2117e-01, -6.3091e+00, -5.5704e+00, -4.6640e+00,\n",
      "         -6.8638e+00,  9.4317e+00,  1.6692e+01,  6.6984e+00, -1.0660e+01],\n",
      "        [-6.0610e+00,  1.5548e+01,  4.9034e+00,  3.3988e+00,  6.9746e+00,\n",
      "         -1.2216e+01,  1.0721e+01,  1.5147e+01,  7.2159e+00, -1.4088e+01],\n",
      "        [-1.2326e+01,  1.0081e+01, -7.9512e+00, -1.5797e+01,  3.7541e+00,\n",
      "         -1.0946e+01,  2.3474e+01,  1.5720e+01,  2.0710e+00, -1.5931e+01],\n",
      "        [-7.1071e+00,  1.3104e+01,  1.1647e+00,  6.6421e+00,  8.9821e+00,\n",
      "         -6.3719e+00,  8.7216e-01,  2.4114e+01,  1.2682e+00, -1.0022e+01],\n",
      "        [-4.0026e+00,  1.2284e+01, -4.9802e+00, -1.3866e+01,  8.2089e+00,\n",
      "         -6.6608e+00,  1.1925e+01,  2.0534e+01,  5.8873e+00, -6.7374e+00],\n",
      "        [-1.7351e+00,  1.4123e+01,  6.8086e+00, -2.7325e-01, -3.6825e-02,\n",
      "         -1.4416e+01,  1.1123e+01,  2.3782e+01,  2.5350e+00, -8.0389e+00],\n",
      "        [-1.4590e+00,  7.2637e+00,  8.1878e+00,  1.4673e+00,  8.1061e+00,\n",
      "         -3.2665e+00,  7.7040e+00,  1.0527e+01,  2.3188e+00, -1.6289e+01],\n",
      "        [-9.7494e+00,  1.4034e+01,  7.9486e+00,  2.2310e+00,  5.5491e+00,\n",
      "         -3.5595e+00,  1.4681e+01,  2.6261e+01,  1.5476e+01, -3.2597e+00],\n",
      "        [-1.6198e+01,  1.6893e+01,  8.2270e-01, -2.9591e+00,  7.4422e+00,\n",
      "         -3.0633e+00,  1.4692e+01,  3.1665e+01,  1.0317e+01, -1.0430e+01],\n",
      "        [-2.2978e+00,  1.7114e+01,  9.1979e+00,  4.3349e+00,  8.2184e+00,\n",
      "         -1.0774e+00,  5.0635e+00,  2.2514e+01,  2.4897e+00, -1.4875e+01],\n",
      "        [-4.3885e+00,  4.9655e+00,  6.9720e+00,  8.6301e+00,  1.2197e+01,\n",
      "         -8.3482e+00,  2.1315e+00,  2.0198e+01,  3.7020e+00, -1.1026e+01],\n",
      "        [-6.0560e-01,  9.6481e+00,  1.1234e+01,  1.4959e+00,  1.6546e+01,\n",
      "         -6.9614e+00,  9.8303e+00,  1.7890e+01, -3.6222e+00,  2.3920e+00],\n",
      "        [-6.6487e+00,  9.4829e+00,  1.2917e+01,  2.9517e+00,  4.7696e+00,\n",
      "         -1.0979e+01,  1.5442e+01,  2.5905e+01,  1.2092e+01, -1.4350e+01],\n",
      "        [-6.6173e+00,  4.7385e+00, -1.6415e+00, -1.6463e+01, -3.5246e+00,\n",
      "         -3.8029e+00,  2.2218e+01,  1.9325e+01, -3.5676e+00, -1.3868e+01],\n",
      "        [-3.5133e+00,  1.6199e+01,  3.5285e+00, -5.2403e+00,  3.8576e+00,\n",
      "         -2.4979e+00,  1.1715e+01,  3.0670e+01,  1.6293e+01, -1.5961e+01],\n",
      "        [-5.4455e+00,  1.9160e+01,  9.3877e+00,  7.8528e+00,  7.8353e+00,\n",
      "         -1.1816e+00,  1.1651e+01,  5.9953e+00, -6.0279e+00, -4.1094e+00],\n",
      "        [-1.1290e+01,  1.1792e+01, -2.7429e-01,  4.7529e+00,  9.9656e+00,\n",
      "         -2.1272e+00,  9.2348e+00,  1.7086e+01,  5.4442e+00, -1.2894e+01],\n",
      "        [ 6.1853e+00,  1.3088e+01,  9.0476e+00, -7.3260e+00,  7.4665e+00,\n",
      "         -3.1507e+00,  1.8060e+01,  2.0430e+01,  1.1363e+01, -9.0516e+00],\n",
      "        [-1.1845e+01,  1.7183e+01,  7.5268e+00, -1.9003e+00,  5.5865e+00,\n",
      "         -6.0203e-01,  3.0420e+00,  1.5615e+01, -2.5172e+00, -8.4720e+00],\n",
      "        [-1.1128e+01,  1.8397e+01,  6.9624e+00,  4.0127e+00,  2.2443e-01,\n",
      "         -1.7018e+01,  7.7382e+00,  1.1464e+01,  1.9364e+00, -2.2853e+00],\n",
      "        [-7.7631e+00,  1.0156e+01,  1.0083e+01, -2.2671e+00,  5.2380e+00,\n",
      "         -9.0384e+00,  1.2901e+01,  1.3102e+01,  3.0682e+00, -6.2735e+00],\n",
      "        [-1.3138e+01,  7.6363e+00,  1.0584e+01, -4.7462e+00,  9.2086e+00,\n",
      "          2.3835e+00,  8.4921e+00,  1.3895e+01, -1.3341e+00, -2.1570e+01],\n",
      "        [-1.9444e+00,  9.2740e+00,  4.1040e+00,  2.9502e+00,  4.9698e+00,\n",
      "         -8.8013e+00,  1.3167e+01,  2.0373e+01,  2.1589e+00, -9.3663e+00],\n",
      "        [-3.3061e+00,  2.4303e+01,  5.3808e+00,  7.8653e-02,  8.4385e+00,\n",
      "         -1.3132e+01,  1.2885e+01,  2.1184e+01,  1.2850e+01, -1.5895e+01],\n",
      "        [-1.1796e+01,  1.7023e+01,  1.3930e+01,  4.5341e+00,  3.9928e+00,\n",
      "         -8.0112e+00,  2.5730e+00,  1.7999e+01, -1.2000e+00, -1.1254e+01],\n",
      "        [-8.0868e+00,  7.9918e+00,  7.1674e+00,  2.3009e+00,  1.1186e+01,\n",
      "         -1.0634e+01,  9.0030e+00,  2.7709e+01,  2.0941e+00, -7.2427e+00],\n",
      "        [-1.2869e+01,  2.4671e+01,  1.6551e+00, -8.1495e+00,  5.9768e-01,\n",
      "         -2.1849e+00,  1.4316e+01,  2.0882e+01,  9.9221e+00, -1.8964e+01],\n",
      "        [ 7.5490e+00,  1.1450e+01,  7.3540e-01, -9.5056e-01,  5.0610e+00,\n",
      "         -1.7629e+01,  1.0242e+01,  1.2561e+01,  2.9414e+00, -4.4286e+00],\n",
      "        [ 2.5940e+00,  7.4132e+00,  1.2043e+01,  4.2925e+00,  4.7109e+00,\n",
      "         -4.4544e+00,  2.9377e+00,  8.0514e+00, -5.1826e+00, -8.4660e+00],\n",
      "        [-1.1574e+01,  1.6918e+01,  8.0113e-01, -4.8779e+00,  8.5837e+00,\n",
      "         -3.3889e+00,  1.3190e+01,  1.2207e+01,  4.7018e+00, -8.9384e+00],\n",
      "        [-1.2244e+01,  1.1057e+01, -1.0107e+00, -1.0226e+01,  6.6436e-01,\n",
      "         -6.5627e+00,  1.5822e+01,  1.2531e+01,  7.2402e+00, -5.4890e+00],\n",
      "        [-1.1343e+01,  1.1897e+01,  4.7103e+00,  4.8992e+00, -8.3256e-02,\n",
      "         -4.0370e+00,  6.3732e+00,  2.0409e+01,  6.3243e-01, -2.1639e+01],\n",
      "        [-9.4323e+00,  9.5622e+00,  4.5731e+00,  3.4924e+00,  9.9331e+00,\n",
      "         -6.1986e+00,  9.4956e+00,  1.1957e+01,  6.0025e+00, -8.9327e+00],\n",
      "        [ 4.6733e-01,  5.9241e+00,  6.3462e+00, -3.6476e+00,  6.8733e+00,\n",
      "          1.0853e+00,  8.2371e+00,  2.5013e+01,  2.0948e+00, -8.7140e+00],\n",
      "        [-7.6906e-01,  9.3294e+00, -2.2797e+00, -3.7620e+00,  7.5363e+00,\n",
      "          2.0121e+00,  6.6295e+00,  2.1843e+01,  9.1821e-01, -1.3795e+01],\n",
      "        [-2.5565e+00,  4.8517e-01,  1.1763e+01,  1.8207e+00,  1.2060e+01,\n",
      "         -1.4345e+01,  1.4265e+01,  2.0360e+01,  5.0857e-01, -4.6640e+00],\n",
      "        [-1.2402e+01,  1.7436e+01, -3.7533e+00,  6.3394e+00,  4.1413e+00,\n",
      "         -5.8773e+00,  1.0560e+01,  2.7727e+01,  6.2501e+00, -8.2788e+00],\n",
      "        [ 2.5934e+00,  1.4696e+01, -6.5013e+00, -4.4571e+00, -1.4159e+00,\n",
      "         -1.7879e+01,  5.9058e+00,  1.0879e+01,  4.4436e-01, -1.0438e+01],\n",
      "        [-1.1163e+01,  1.7349e+01,  1.0920e+01,  3.3152e+00,  1.7998e+01,\n",
      "         -1.0990e+01,  2.0360e+00,  1.9163e+01,  3.8342e-01, -1.0749e+01],\n",
      "        [-1.7084e+00,  1.3163e+01,  9.9314e-01,  9.2186e+00,  1.1283e+01,\n",
      "         -8.3419e+00,  4.9181e+00,  1.6663e+01,  8.2510e+00, -1.7278e+01],\n",
      "        [-1.4934e+01,  1.7939e+01, -4.4360e+00, -3.1789e+00,  4.5075e+00,\n",
      "         -1.4749e+01,  3.5396e+00,  2.6049e+01, -7.7829e+00, -7.1941e+00],\n",
      "        [-9.6598e+00,  2.1334e+01,  5.2629e+00, -8.9210e-01,  7.6347e+00,\n",
      "         -2.0080e+01,  7.4363e+00,  8.7239e+00,  3.3559e+00, -6.9110e+00],\n",
      "        [-7.5135e+00,  1.6137e+01,  4.3659e+00,  3.3973e-01,  1.7115e+00,\n",
      "         -9.2056e+00,  1.0074e+01,  2.3848e+01,  4.3677e+00, -1.1027e+01],\n",
      "        [-8.4274e+00,  1.3420e+01,  6.0524e-02, -3.4517e+00,  1.0327e+01,\n",
      "         -5.0635e+00,  1.0471e+01,  1.8697e+01,  1.4013e+01, -1.3367e+01],\n",
      "        [-7.3535e+00,  8.5323e+00,  4.5117e+00,  4.3134e-01,  4.8438e+00,\n",
      "          5.3835e+00,  5.8281e+00,  2.2131e+01,  3.2292e+00, -1.2681e+01]])\n"
     ]
    }
   ],
   "source": [
    "## Your solution\n",
    "def activation(x):\n",
    "    \"\"\" Sigmoid activation function \n",
    "    \n",
    "        Arguments\n",
    "        ---------\n",
    "        x: torch.Tensor\n",
    "    \"\"\"\n",
    "    return 1/(1+torch.exp(-x))\n",
    "\n",
    "features = images.view(images.shape[0], -1)\n",
    "\n",
    "# Define the size of each layer in our network\n",
    "n_input = features.shape[1]     # Number of input units, must match number of input features\n",
    "n_hidden = 256                    # Number of hidden units \n",
    "n_output = 10                    # Number of output units\n",
    "\n",
    "# Weights for inputs to hidden layer\n",
    "W1 = torch.randn(n_input, n_hidden)\n",
    "# Weights for hidden layer to output layer\n",
    "W2 = torch.randn(n_hidden, n_output)\n",
    "\n",
    "# and bias terms for hidden and output layers\n",
    "B1 = torch.randn(n_hidden)\n",
    "B2 = torch.randn(n_output)\n",
    "\n",
    "h = activation(torch.mm(features, W1.view(n_input,n_hidden)) + B1)\n",
    "out = torch.mm(h, W2.view(n_hidden,n_output)) + B2 # output of your network, should have shape (64,10)\n",
    "print(out)"
   ]
  },
  {
   "cell_type": "markdown",
   "metadata": {},
   "source": [
    "Now we have 10 outputs for our network. We want to pass in an image to our network and get out a probability distribution over the classes that tells us the likely class(es) the image belongs to. Something that looks like this:\n",
    "<img src='assets/image_distribution.png' width=500px>\n",
    "\n",
    "Here we see that the probability for each class is roughly the same. This is representing an untrained network, it hasn't seen any data yet so it just returns a uniform distribution with equal probabilities for each class.\n",
    "\n",
    "To calculate this probability distribution, we often use the [**softmax** function](https://en.wikipedia.org/wiki/Softmax_function). Mathematically this looks like\n",
    "\n",
    "$$\n",
    "\\Large \\sigma(x_i) = \\cfrac{e^{x_i}}{\\sum_k^K{e^{x_k}}}\n",
    "$$\n",
    "\n",
    "What this does is squish each input $x_i$ between 0 and 1 and normalizes the values to give you a proper probability distribution where the probabilites sum up to one.\n",
    "\n",
    "> **Exercise:** Implement a function `softmax` that performs the softmax calculation and returns probability distributions for each example in the batch. Note that you'll need to pay attention to the shapes when doing this. If you have a tensor `a` with shape `(64, 10)` and a tensor `b` with shape `(64,)`, doing `a/b` will give you an error because PyTorch will try to do the division across the columns (called broadcasting) but you'll get a size mismatch. The way to think about this is for each of the 64 examples, you only want to divide by one value, the sum in the denominator. So you need `b` to have a shape of `(64, 1)`. This way PyTorch will divide the 10 values in each row of `a` by the one value in each row of `b`. Pay attention to how you take the sum as well. You'll need to define the `dim` keyword in `torch.sum`. Setting `dim=0` takes the sum across the rows while `dim=1` takes the sum across the columns."
   ]
  },
  {
   "cell_type": "code",
   "execution_count": 34,
   "metadata": {},
   "outputs": [
    {
     "name": "stdout",
     "output_type": "stream",
     "text": [
      "torch.Size([64, 10])\n",
      "tensor([1.0000, 1.0000, 1.0000, 1.0000, 1.0000, 1.0000, 1.0000, 1.0000, 1.0000,\n",
      "        1.0000, 1.0000, 1.0000, 1.0000, 1.0000, 1.0000, 1.0000, 1.0000, 1.0000,\n",
      "        1.0000, 1.0000, 1.0000, 1.0000, 1.0000, 1.0000, 1.0000, 1.0000, 1.0000,\n",
      "        1.0000, 1.0000, 1.0000, 1.0000, 1.0000, 1.0000, 1.0000, 1.0000, 1.0000,\n",
      "        1.0000, 1.0000, 1.0000, 1.0000, 1.0000, 1.0000, 1.0000, 1.0000, 1.0000,\n",
      "        1.0000, 1.0000, 1.0000, 1.0000, 1.0000, 1.0000, 1.0000, 1.0000, 1.0000,\n",
      "        1.0000, 1.0000, 1.0000, 1.0000, 1.0000, 1.0000, 1.0000, 1.0000, 1.0000,\n",
      "        1.0000])\n"
     ]
    }
   ],
   "source": [
    "def softmax(x):\n",
    "    ## TODO: Implement the softmax function here\n",
    "    exp = torch.exp(x)\n",
    "    denom = torch.sum(exp, dim=1).view(-1, 1)\n",
    "    return exp/denom\n",
    "\n",
    "# Here, out should be the output of the network in the previous excercise with shape (64,10)\n",
    "probabilities = softmax(out)\n",
    "\n",
    "# Does it have the right shape? Should be (64, 10)\n",
    "print(probabilities.shape)\n",
    "\n",
    "# Does it sum to 1?\n",
    "print(probabilities.sum(dim=1))"
   ]
  },
  {
   "cell_type": "markdown",
   "metadata": {},
   "source": [
    "## Building networks with PyTorch\n",
    "\n",
    "PyTorch provides a module `nn` that makes building networks much simpler. Here I'll show you how to build the same one as above with 784 inputs, 256 hidden units, 10 output units and a softmax output."
   ]
  },
  {
   "cell_type": "code",
   "execution_count": 36,
   "metadata": {},
   "outputs": [],
   "source": [
    "from torch import nn"
   ]
  },
  {
   "cell_type": "code",
   "execution_count": 37,
   "metadata": {},
   "outputs": [],
   "source": [
    "class Network(nn.Module):\n",
    "    def __init__(self):\n",
    "        super().__init__()\n",
    "        \n",
    "        # Inputs to hidden layer linear transformation\n",
    "        self.hidden = nn.Linear(784, 256)\n",
    "        # Output layer, 10 units - one for each digit\n",
    "        self.output = nn.Linear(256, 10)\n",
    "        \n",
    "        # Define sigmoid activation and softmax output \n",
    "        self.sigmoid = nn.Sigmoid()\n",
    "        self.softmax = nn.Softmax(dim=1)\n",
    "        \n",
    "    def forward(self, x):\n",
    "        # Pass the input tensor through each of our operations\n",
    "        x = self.hidden(x)\n",
    "        x = self.sigmoid(x)\n",
    "        x = self.output(x)\n",
    "        x = self.softmax(x)\n",
    "        \n",
    "        return x"
   ]
  },
  {
   "cell_type": "markdown",
   "metadata": {},
   "source": [
    "Let's go through this bit by bit.\n",
    "\n",
    "```python\n",
    "class Network(nn.Module):\n",
    "```\n",
    "\n",
    "Here we're inheriting from `nn.Module`. Combined with `super().__init__()` this creates a class that tracks the architecture and provides a lot of useful methods and attributes. It is mandatory to inherit from `nn.Module` when you're creating a class for your network. The name of the class itself can be anything.\n",
    "\n",
    "```python\n",
    "self.hidden = nn.Linear(784, 256)\n",
    "```\n",
    "\n",
    "This line creates a module for a linear transformation, $x\\mathbf{W} + b$, with 784 inputs and 256 outputs and assigns it to `self.hidden`. The module automatically creates the weight and bias tensors which we'll use in the `forward` method. You can access the weight and bias tensors once the network (`net`) is created with `net.hidden.weight` and `net.hidden.bias`.\n",
    "\n",
    "```python\n",
    "self.output = nn.Linear(256, 10)\n",
    "```\n",
    "\n",
    "Similarly, this creates another linear transformation with 256 inputs and 10 outputs.\n",
    "\n",
    "```python\n",
    "self.sigmoid = nn.Sigmoid()\n",
    "self.softmax = nn.Softmax(dim=1)\n",
    "```\n",
    "\n",
    "Here I defined operations for the sigmoid activation and softmax output. Setting `dim=1` in `nn.Softmax(dim=1)` calculates softmax across the columns.\n",
    "\n",
    "```python\n",
    "def forward(self, x):\n",
    "```\n",
    "\n",
    "PyTorch networks created with `nn.Module` must have a `forward` method defined. It takes in a tensor `x` and passes it through the operations you defined in the `__init__` method.\n",
    "\n",
    "```python\n",
    "x = self.hidden(x)\n",
    "x = self.sigmoid(x)\n",
    "x = self.output(x)\n",
    "x = self.softmax(x)\n",
    "```\n",
    "\n",
    "Here the input tensor `x` is passed through each operation and reassigned to `x`. We can see that the input tensor goes through the hidden layer, then a sigmoid function, then the output layer, and finally the softmax function. It doesn't matter what you name the variables here, as long as the inputs and outputs of the operations match the network architecture you want to build. The order in which you define things in the `__init__` method doesn't matter, but you'll need to sequence the operations correctly in the `forward` method.\n",
    "\n",
    "Now we can create a `Network` object."
   ]
  },
  {
   "cell_type": "code",
   "execution_count": 38,
   "metadata": {},
   "outputs": [
    {
     "data": {
      "text/plain": [
       "Network(\n",
       "  (hidden): Linear(in_features=784, out_features=256, bias=True)\n",
       "  (output): Linear(in_features=256, out_features=10, bias=True)\n",
       "  (sigmoid): Sigmoid()\n",
       "  (softmax): Softmax()\n",
       ")"
      ]
     },
     "execution_count": 38,
     "metadata": {},
     "output_type": "execute_result"
    }
   ],
   "source": [
    "# Create the network and look at it's text representation\n",
    "model = Network()\n",
    "model"
   ]
  },
  {
   "cell_type": "markdown",
   "metadata": {},
   "source": [
    "You can define the network somewhat more concisely and clearly using the `torch.nn.functional` module. This is the most common way you'll see networks defined as many operations are simple element-wise functions. We normally import this module as `F`, `import torch.nn.functional as F`."
   ]
  },
  {
   "cell_type": "code",
   "execution_count": 39,
   "metadata": {},
   "outputs": [],
   "source": [
    "import torch.nn.functional as F\n",
    "\n",
    "class Network(nn.Module):\n",
    "    def __init__(self):\n",
    "        super().__init__()\n",
    "        # Inputs to hidden layer linear transformation\n",
    "        self.hidden = nn.Linear(784, 256)\n",
    "        # Output layer, 10 units - one for each digit\n",
    "        self.output = nn.Linear(256, 10)\n",
    "        \n",
    "    def forward(self, x):\n",
    "        # Hidden layer with sigmoid activation\n",
    "        x = F.sigmoid(self.hidden(x))\n",
    "        # Output layer with softmax activation\n",
    "        x = F.softmax(self.output(x), dim=1)\n",
    "        \n",
    "        return x"
   ]
  },
  {
   "cell_type": "markdown",
   "metadata": {},
   "source": [
    "### Activation functions\n",
    "\n",
    "So far we've only been looking at the softmax activation, but in general any function can be used as an activation function. The only requirement is that for a network to approximate a non-linear function, the activation functions must be non-linear. Here are a few more examples of common activation functions: Tanh (hyperbolic tangent), and ReLU (rectified linear unit).\n",
    "\n",
    "<img src=\"assets/activation.png\" width=700px>\n",
    "\n",
    "In practice, the ReLU function is used almost exclusively as the activation function for hidden layers."
   ]
  },
  {
   "cell_type": "markdown",
   "metadata": {},
   "source": [
    "### Your Turn to Build a Network\n",
    "\n",
    "<img src=\"assets/mlp_mnist.png\" width=600px>\n",
    "\n",
    "> **Exercise:** Create a network with 784 input units, a hidden layer with 128 units and a ReLU activation, then a hidden layer with 64 units and a ReLU activation, and finally an output layer with a softmax activation as shown above. You can use a ReLU activation with the `nn.ReLU` module or `F.relu` function.\n",
    "\n",
    "It's good practice to name your layers by their type of network, for instance 'fc' to represent a fully-connected layer. As you code your solution, use `fc1`, `fc2`, and `fc3` as your layer names."
   ]
  },
  {
   "cell_type": "code",
   "execution_count": 45,
   "metadata": {
    "scrolled": true
   },
   "outputs": [
    {
     "data": {
      "text/plain": [
       "MyNetwork(\n",
       "  (fc1): Linear(in_features=784, out_features=128, bias=True)\n",
       "  (fc2): Linear(in_features=128, out_features=64, bias=True)\n",
       "  (fc3): Linear(in_features=64, out_features=10, bias=True)\n",
       ")"
      ]
     },
     "execution_count": 45,
     "metadata": {},
     "output_type": "execute_result"
    }
   ],
   "source": [
    "## Your solution here\n",
    "import torch.nn.functional as F\n",
    "\n",
    "class MyNetwork(nn.Module):\n",
    "    def __init__(self):\n",
    "        super().__init__()\n",
    "        self.fc1 = nn.Linear(784, 128)\n",
    "        self.fc2 = nn.Linear(128, 64)\n",
    "        self.fc3 = nn.Linear(64, 10)\n",
    "        \n",
    "    def forward(self, x):\n",
    "        x = F.relu(self.fc1(x))\n",
    "        x = F.relu(self.fc2(x))\n",
    "        x = F.softmax(self.fc3(x), dim=1)\n",
    "        \n",
    "        return x\n",
    "\n",
    "model = MyNetwork()\n",
    "model"
   ]
  },
  {
   "cell_type": "markdown",
   "metadata": {},
   "source": [
    "### Initializing weights and biases\n",
    "\n",
    "The weights and such are automatically initialized for you, but it's possible to customize how they are initialized. The weights and biases are tensors attached to the layer you defined, you can get them with `model.fc1.weight` for instance."
   ]
  },
  {
   "cell_type": "code",
   "execution_count": 46,
   "metadata": {},
   "outputs": [
    {
     "name": "stdout",
     "output_type": "stream",
     "text": [
      "Parameter containing:\n",
      "tensor([[ 0.0241, -0.0103,  0.0136,  ...,  0.0296, -0.0021, -0.0192],\n",
      "        [ 0.0129, -0.0008,  0.0284,  ...,  0.0157,  0.0259, -0.0286],\n",
      "        [-0.0333,  0.0055,  0.0324,  ..., -0.0234, -0.0062, -0.0266],\n",
      "        ...,\n",
      "        [ 0.0065, -0.0143,  0.0357,  ..., -0.0176,  0.0121, -0.0352],\n",
      "        [-0.0215, -0.0143, -0.0342,  ..., -0.0107,  0.0177,  0.0019],\n",
      "        [ 0.0139,  0.0116, -0.0315,  ...,  0.0342, -0.0135,  0.0227]],\n",
      "       requires_grad=True)\n",
      "Parameter containing:\n",
      "tensor([-0.0142, -0.0005,  0.0075,  0.0083,  0.0108, -0.0308,  0.0326, -0.0108,\n",
      "        -0.0157, -0.0055,  0.0080,  0.0254, -0.0120,  0.0271,  0.0200,  0.0288,\n",
      "         0.0197, -0.0073,  0.0115, -0.0351, -0.0221,  0.0132,  0.0179, -0.0204,\n",
      "         0.0170, -0.0124, -0.0028,  0.0004, -0.0205,  0.0033, -0.0080, -0.0105,\n",
      "         0.0091, -0.0230,  0.0133, -0.0210, -0.0174,  0.0208,  0.0129,  0.0113,\n",
      "         0.0060, -0.0208,  0.0265, -0.0298, -0.0098,  0.0019,  0.0172, -0.0231,\n",
      "        -0.0332, -0.0214,  0.0241,  0.0085,  0.0321, -0.0320,  0.0139, -0.0303,\n",
      "         0.0296,  0.0316, -0.0023,  0.0139,  0.0262, -0.0332,  0.0328, -0.0002,\n",
      "        -0.0137,  0.0055, -0.0086,  0.0253,  0.0128,  0.0144,  0.0194,  0.0142,\n",
      "         0.0341, -0.0209, -0.0357, -0.0171,  0.0303, -0.0210,  0.0066,  0.0354,\n",
      "         0.0259,  0.0084,  0.0053, -0.0327,  0.0215,  0.0100, -0.0060, -0.0149,\n",
      "        -0.0005,  0.0294,  0.0102, -0.0001, -0.0348, -0.0264, -0.0250,  0.0030,\n",
      "        -0.0053, -0.0257,  0.0263, -0.0028, -0.0284,  0.0342,  0.0098, -0.0253,\n",
      "         0.0252, -0.0119,  0.0196,  0.0206, -0.0349,  0.0091, -0.0214,  0.0221,\n",
      "         0.0351,  0.0230,  0.0342, -0.0023,  0.0127,  0.0215, -0.0328, -0.0269,\n",
      "         0.0041, -0.0270, -0.0213, -0.0277,  0.0211,  0.0215,  0.0049, -0.0236],\n",
      "       requires_grad=True)\n"
     ]
    }
   ],
   "source": [
    "print(model.fc1.weight)\n",
    "print(model.fc1.bias)"
   ]
  },
  {
   "cell_type": "markdown",
   "metadata": {},
   "source": [
    "For custom initialization, we want to modify these tensors in place. These are actually autograd *Variables*, so we need to get back the actual tensors with `model.fc1.weight.data`. Once we have the tensors, we can fill them with zeros (for biases) or random normal values."
   ]
  },
  {
   "cell_type": "code",
   "execution_count": 47,
   "metadata": {},
   "outputs": [
    {
     "data": {
      "text/plain": [
       "tensor([0., 0., 0., 0., 0., 0., 0., 0., 0., 0., 0., 0., 0., 0., 0., 0., 0., 0., 0., 0., 0., 0., 0., 0.,\n",
       "        0., 0., 0., 0., 0., 0., 0., 0., 0., 0., 0., 0., 0., 0., 0., 0., 0., 0., 0., 0., 0., 0., 0., 0.,\n",
       "        0., 0., 0., 0., 0., 0., 0., 0., 0., 0., 0., 0., 0., 0., 0., 0., 0., 0., 0., 0., 0., 0., 0., 0.,\n",
       "        0., 0., 0., 0., 0., 0., 0., 0., 0., 0., 0., 0., 0., 0., 0., 0., 0., 0., 0., 0., 0., 0., 0., 0.,\n",
       "        0., 0., 0., 0., 0., 0., 0., 0., 0., 0., 0., 0., 0., 0., 0., 0., 0., 0., 0., 0., 0., 0., 0., 0.,\n",
       "        0., 0., 0., 0., 0., 0., 0., 0.])"
      ]
     },
     "execution_count": 47,
     "metadata": {},
     "output_type": "execute_result"
    }
   ],
   "source": [
    "# Set biases to all zeros\n",
    "model.fc1.bias.data.fill_(0)"
   ]
  },
  {
   "cell_type": "code",
   "execution_count": 48,
   "metadata": {},
   "outputs": [
    {
     "data": {
      "text/plain": [
       "tensor([[-0.0052,  0.0186,  0.0163,  ...,  0.0021, -0.0138, -0.0011],\n",
       "        [-0.0097, -0.0019, -0.0201,  ...,  0.0012,  0.0006,  0.0126],\n",
       "        [ 0.0152,  0.0048, -0.0005,  ..., -0.0081,  0.0093, -0.0013],\n",
       "        ...,\n",
       "        [ 0.0134,  0.0030,  0.0139,  ...,  0.0183,  0.0003,  0.0078],\n",
       "        [ 0.0060,  0.0021, -0.0209,  ...,  0.0027, -0.0201, -0.0054],\n",
       "        [-0.0119,  0.0036, -0.0050,  ...,  0.0033,  0.0090, -0.0063]])"
      ]
     },
     "execution_count": 48,
     "metadata": {},
     "output_type": "execute_result"
    }
   ],
   "source": [
    "# sample from random normal with standard dev = 0.01\n",
    "model.fc1.weight.data.normal_(std=0.01)"
   ]
  },
  {
   "cell_type": "markdown",
   "metadata": {},
   "source": [
    "### Forward pass\n",
    "\n",
    "Now that we have a network, let's see what happens when we pass in an image."
   ]
  },
  {
   "cell_type": "code",
   "execution_count": 49,
   "metadata": {},
   "outputs": [
    {
     "data": {
      "image/png": "[encoded data removed]",
      "text/plain": [
       "<Figure size 432x648 with 2 Axes>"
      ]
     },
     "metadata": {
      "image/png": {
       "height": 226,
       "width": 423
      },
      "needs_background": "light"
     },
     "output_type": "display_data"
    }
   ],
   "source": [
    "# Grab some data \n",
    "dataiter = iter(trainloader)\n",
    "images, labels = dataiter.next()\n",
    "\n",
    "# Resize images into a 1D vector, new shape is (batch size, color channels, image pixels) \n",
    "images.resize_(64, 1, 784)\n",
    "# or images.resize_(images.shape[0], 1, 784) to automatically get batch size\n",
    "\n",
    "# Forward pass through the network\n",
    "img_idx = 0\n",
    "ps = model.forward(images[img_idx,:])\n",
    "\n",
    "img = images[img_idx]\n",
    "helper.view_classify(img.view(1, 28, 28), ps)"
   ]
  },
  {
   "cell_type": "markdown",
   "metadata": {},
   "source": [
    "As you can see above, our network has basically no idea what this digit is. It's because we haven't trained it yet, all the weights are random!\n",
    "\n",
    "### Using `nn.Sequential`\n",
    "\n",
    "PyTorch provides a convenient way to build networks like this where a tensor is passed sequentially through operations, `nn.Sequential` ([documentation](https://pytorch.org/docs/master/nn.html#torch.nn.Sequential)). Using this to build the equivalent network:"
   ]
  },
  {
   "cell_type": "code",
   "execution_count": 50,
   "metadata": {},
   "outputs": [
    {
     "name": "stdout",
     "output_type": "stream",
     "text": [
      "Sequential(\n",
      "  (0): Linear(in_features=784, out_features=128, bias=True)\n",
      "  (1): ReLU()\n",
      "  (2): Linear(in_features=128, out_features=64, bias=True)\n",
      "  (3): ReLU()\n",
      "  (4): Linear(in_features=64, out_features=10, bias=True)\n",
      "  (5): Softmax()\n",
      ")\n"
     ]
    },
    {
     "data": {
      "image/png": "[encoded data removed]",
      "text/plain": [
       "<Figure size 432x648 with 2 Axes>"
      ]
     },
     "metadata": {
      "image/png": {
       "height": 226,
       "width": 423
      },
      "needs_background": "light"
     },
     "output_type": "display_data"
    }
   ],
   "source": [
    "# Hyperparameters for our network\n",
    "input_size = 784\n",
    "hidden_sizes = [128, 64]\n",
    "output_size = 10\n",
    "\n",
    "# Build a feed-forward network\n",
    "model = nn.Sequential(nn.Linear(input_size, hidden_sizes[0]),\n",
    "                      nn.ReLU(),\n",
    "                      nn.Linear(hidden_sizes[0], hidden_sizes[1]),\n",
    "                      nn.ReLU(),\n",
    "                      nn.Linear(hidden_sizes[1], output_size),\n",
    "                      nn.Softmax(dim=1))\n",
    "print(model)\n",
    "\n",
    "# Forward pass through the network and display output\n",
    "images, labels = next(iter(trainloader))\n",
    "images.resize_(images.shape[0], 1, 784)\n",
    "ps = model.forward(images[0,:])\n",
    "helper.view_classify(images[0].view(1, 28, 28), ps)"
   ]
  },
  {
   "cell_type": "markdown",
   "metadata": {},
   "source": [
    "Here our model is the same as before: 784 input units, a hidden layer with 128 units, ReLU activation, 64 unit hidden layer, another ReLU, then the output layer with 10 units, and the softmax output.\n",
    "\n",
    "The operations are available by passing in the appropriate index. For example, if you want to get first Linear operation and look at the weights, you'd use `model[0]`."
   ]
  },
  {
   "cell_type": "code",
   "execution_count": 51,
   "metadata": {},
   "outputs": [
    {
     "name": "stdout",
     "output_type": "stream",
     "text": [
      "Linear(in_features=784, out_features=128, bias=True)\n"
     ]
    },
    {
     "data": {
      "text/plain": [
       "Parameter containing:\n",
       "tensor([[ 1.1347e-03,  1.0005e-02,  2.0072e-02,  ...,  2.6409e-02,\n",
       "          1.4609e-02,  8.5880e-03],\n",
       "        [ 3.2474e-02, -8.1987e-03,  4.1210e-04,  ...,  2.9539e-02,\n",
       "         -4.9508e-03, -3.3532e-02],\n",
       "        [-3.2460e-02,  2.0138e-03, -2.0361e-02,  ..., -4.5806e-03,\n",
       "         -4.9096e-05, -4.0447e-03],\n",
       "        ...,\n",
       "        [ 6.9362e-03, -3.3866e-02,  2.0070e-02,  ...,  2.1828e-02,\n",
       "         -2.2931e-03, -1.1212e-02],\n",
       "        [-3.4939e-02,  4.4670e-03,  3.5068e-02,  ..., -8.0921e-03,\n",
       "          3.0787e-02,  2.6114e-02],\n",
       "        [-1.8962e-02,  1.3275e-02, -2.0761e-02,  ..., -5.9521e-03,\n",
       "          4.7709e-03, -2.4452e-02]], requires_grad=True)"
      ]
     },
     "execution_count": 51,
     "metadata": {},
     "output_type": "execute_result"
    }
   ],
   "source": [
    "print(model[0])\n",
    "model[0].weight"
   ]
  },
  {
   "cell_type": "markdown",
   "metadata": {},
   "source": [
    "You can also pass in an `OrderedDict` to name the individual layers and operations, instead of using incremental integers. Note that dictionary keys must be unique, so _each operation must have a different name_."
   ]
  },
  {
   "cell_type": "code",
   "execution_count": 52,
   "metadata": {},
   "outputs": [
    {
     "data": {
      "text/plain": [
       "Sequential(\n",
       "  (fc1): Linear(in_features=784, out_features=128, bias=True)\n",
       "  (relu1): ReLU()\n",
       "  (fc2): Linear(in_features=128, out_features=64, bias=True)\n",
       "  (relu2): ReLU()\n",
       "  (output): Linear(in_features=64, out_features=10, bias=True)\n",
       "  (softmax): Softmax()\n",
       ")"
      ]
     },
     "execution_count": 52,
     "metadata": {},
     "output_type": "execute_result"
    }
   ],
   "source": [
    "from collections import OrderedDict\n",
    "model = nn.Sequential(OrderedDict([\n",
    "                      ('fc1', nn.Linear(input_size, hidden_sizes[0])),\n",
    "                      ('relu1', nn.ReLU()),\n",
    "                      ('fc2', nn.Linear(hidden_sizes[0], hidden_sizes[1])),\n",
    "                      ('relu2', nn.ReLU()),\n",
    "                      ('output', nn.Linear(hidden_sizes[1], output_size)),\n",
    "                      ('softmax', nn.Softmax(dim=1))]))\n",
    "model"
   ]
  },
  {
   "cell_type": "markdown",
   "metadata": {},
   "source": [
    "Now you can access layers either by integer or the name"
   ]
  },
  {
   "cell_type": "code",
   "execution_count": 53,
   "metadata": {},
   "outputs": [
    {
     "name": "stdout",
     "output_type": "stream",
     "text": [
      "Linear(in_features=784, out_features=128, bias=True)\n",
      "Linear(in_features=784, out_features=128, bias=True)\n"
     ]
    }
   ],
   "source": [
    "print(model[0])\n",
    "print(model.fc1)"
   ]
  },
  {
   "cell_type": "markdown",
   "metadata": {},
   "source": [
    "In the next notebook, we'll see how we can train a neural network to accuractly predict the numbers appearing in the MNIST images."
   ]
  }
 ],
 "metadata": {
  "kernelspec": {
   "display_name": "Python 3",
   "language": "python",
   "name": "python3"
  },
  "language_info": {
   "codemirror_mode": {
    "name": "ipython",
    "version": 3
   },
   "file_extension": ".py",
   "mimetype": "text/x-python",
   "name": "python",
   "nbconvert_exporter": "python",
   "pygments_lexer": "ipython3",
   "version": "3.5.2"
  }
 },
 "nbformat": 4,
 "nbformat_minor": 2
}
